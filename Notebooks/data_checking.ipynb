{
 "cells": [
  {
   "cell_type": "code",
   "execution_count": 1,
   "metadata": {},
   "outputs": [],
   "source": [
    "import pandas as pd\n",
    "import numpy as np\n",
    "import pickle as pkl\n",
    "import matplotlib.pyplot as plt\n",
    "\n",
    "import os\n",
    "\n"
   ]
  },
  {
   "cell_type": "code",
   "execution_count": 2,
   "metadata": {},
   "outputs": [],
   "source": [
    "datapath = \"../data/final_processed/\""
   ]
  },
  {
   "cell_type": "code",
   "execution_count": 3,
   "metadata": {},
   "outputs": [
    {
     "name": "stderr",
     "output_type": "stream",
     "text": [
      "/var/folders/1t/_7p_zm4x449blqs7bvqvb0rm0000gn/T/ipykernel_28956/666139362.py:2: DtypeWarning: Columns (70) have mixed types. Specify dtype option on import or set low_memory=False.\n",
      "  ratios = pd.read_csv(datapath + '/firm_ratios.csv', parse_dates=['date']).sort_values(['date','ticker']).set_index('date')\n"
     ]
    }
   ],
   "source": [
    "daily = pd.read_csv(datapath + '/daily_prices.csv', parse_dates=['date']).sort_values(['date','ticker']).set_index('date')\n",
    "ratios = pd.read_csv(datapath + '/firm_ratios.csv', parse_dates=['date']).sort_values(['date','ticker']).set_index('date')\n",
    "sectors = pd.read_csv(datapath + '/sectors.csv', parse_dates=['date']).sort_values(['date','ticker']).set_index('date')\n",
    "short = pd.read_csv(datapath + '/short_interest_rate.csv', parse_dates=['date']).sort_values(['date','ticker']).set_index('date')\n",
    "# Merge\n",
    "df = daily.merge(ratios, on=['ticker', 'date'], how = 'left')\n",
    "df = df.merge(short, on =['ticker', 'date'], how = 'left')\n",
    "df = df.merge(sectors, on=['ticker', 'date'], how = 'left')\n",
    "\n",
    "del daily, ratios, sectors, short"
   ]
  },
  {
   "cell_type": "code",
   "execution_count": 4,
   "metadata": {},
   "outputs": [
    {
     "data": {
      "text/plain": [
       "(2666, 1)"
      ]
     },
     "execution_count": 4,
     "metadata": {},
     "output_type": "execute_result"
    }
   ],
   "source": [
    "tickers = pd.read_csv(\"../data/sp500_tickers/sp500_historical.csv\", parse_dates=['date']).set_index('date')\n",
    "tickers.shape\n"
   ]
  },
  {
   "attachments": {},
   "cell_type": "markdown",
   "metadata": {},
   "source": [
    "# Data Processing Example"
   ]
  },
  {
   "cell_type": "code",
   "execution_count": 30,
   "metadata": {},
   "outputs": [],
   "source": [
    "from model.data_process import DataPrepation"
   ]
  },
  {
   "cell_type": "code",
   "execution_count": 31,
   "metadata": {},
   "outputs": [],
   "source": [
    "start, end = '2010-01-01', '2010-12-31'\n",
    "test_start, test_end = '2011-01-01', '2011-06-30'"
   ]
  },
  {
   "cell_type": "code",
   "execution_count": 32,
   "metadata": {},
   "outputs": [],
   "source": [
    "datagen = DataPrepation(df, tickers)\n",
    "# datagen.dimension_reduction_preprocess(start, end)"
   ]
  },
  {
   "cell_type": "code",
   "execution_count": 33,
   "metadata": {},
   "outputs": [],
   "source": [
    "pairs_list = [('AAPL','ABT')]\n",
    "\n",
    "res = datagen.trading_preprocess(pairs_list, start, end, test_start, test_end)"
   ]
  },
  {
   "cell_type": "code",
   "execution_count": 34,
   "metadata": {},
   "outputs": [
    {
     "data": {
      "text/plain": [
       "array([54.46, 54.02, 54.32, 54.77, 55.05, 55.33, 55.17, 55.29, 55.35,\n",
       "       55.49, 56.2 , 56.24, 55.56, 54.51, 54.7 , 54.48, 53.9 , 53.95,\n",
       "       52.94, 53.34, 54.44, 54.65, 53.82, 53.97, 53.35, 53.35, 53.26,\n",
       "       53.54, 53.93, 54.59, 54.75, 54.97, 54.38, 54.4 , 53.97, 54.33,\n",
       "       54.12, 54.28, 54.29, 54.58, 54.08, 54.08, 54.32, 54.42, 54.8 ,\n",
       "       55.03, 55.54, 54.52, 54.8 , 54.68, 54.5 , 53.77, 53.46, 53.87,\n",
       "       54.34, 53.87, 53.52, 52.9 , 53.12, 52.51, 52.68, 52.96, 52.93,\n",
       "       52.84, 52.5 , 52.28, 52.73, 52.67, 52.28, 52.31, 52.36, 52.26,\n",
       "       52.91, 53.06, 51.78, 51.12, 51.2 , 50.37, 49.77, 50.27, 50.75,\n",
       "       51.16, 50.87, 50.19, 50.15, 49.  , 48.72, 49.69, 49.4 , 49.15,\n",
       "       48.61, 48.5 , 48.43, 48.05, 47.94, 46.48, 46.94, 47.56, 47.23,\n",
       "       47.17, 47.87, 47.56, 46.94, 47.48, 47.73, 46.53, 46.23, 46.31,\n",
       "       45.86, 47.2 , 47.2 , 47.33, 48.17, 48.79, 48.63, 48.77, 48.3 ,\n",
       "       47.99, 47.56, 47.46, 47.19, 47.18, 46.65, 46.78, 46.46, 46.46,\n",
       "       46.69, 47.71, 48.1 , 48.03, 47.82, 47.67, 47.85, 48.02, 47.07,\n",
       "       47.41, 47.47, 48.68, 49.01, 48.93, 49.24, 49.27, 49.22, 48.98,\n",
       "       49.08, 49.83, 50.  , 50.18, 49.98, 50.57, 50.88, 51.47, 50.39,\n",
       "       50.39, 50.06, 50.34, 50.69, 50.23, 49.32, 49.34, 49.78, 49.48,\n",
       "       49.82, 49.5 , 49.84, 49.49, 49.34, 50.27, 50.61, 50.74, 50.49,\n",
       "       50.45, 51.09, 51.54, 51.45, 51.41, 51.66, 51.61, 51.64, 52.26,\n",
       "       52.15, 51.99, 51.6 , 51.94, 52.1 , 52.38, 52.49, 52.24, 52.58,\n",
       "       52.51, 53.08, 52.98, 52.58, 52.81, 52.81, 53.51, 53.18, 53.21,\n",
       "       53.17, 53.67, 52.87, 52.42, 52.84, 52.56, 52.51, 52.69, 51.64,\n",
       "       51.75, 51.32, 50.6 , 50.88, 51.04, 50.88, 50.92, 50.45, 50.05,\n",
       "       50.17, 49.78, 48.58, 48.16, 47.66, 47.8 , 47.62, 47.4 , 47.25,\n",
       "       46.95, 46.96, 46.8 , 46.49, 46.51, 47.01, 47.61, 47.37, 46.92,\n",
       "       46.89, 46.73, 47.13, 47.62, 47.48, 48.05, 48.12, 48.56, 48.4 ,\n",
       "       48.27, 48.  , 47.84, 47.81, 47.38, 47.39, 47.42, 47.57, 47.91])"
      ]
     },
     "execution_count": 34,
     "metadata": {},
     "output_type": "execute_result"
    }
   ],
   "source": [
    "res[pairs_list[0]].train_y"
   ]
  },
  {
   "cell_type": "code",
   "execution_count": null,
   "metadata": {},
   "outputs": [],
   "source": []
  },
  {
   "cell_type": "code",
   "execution_count": null,
   "metadata": {},
   "outputs": [],
   "source": []
  },
  {
   "cell_type": "code",
   "execution_count": null,
   "metadata": {},
   "outputs": [],
   "source": []
  }
 ],
 "metadata": {
  "kernelspec": {
   "display_name": "hun",
   "language": "python",
   "name": "python3"
  },
  "language_info": {
   "codemirror_mode": {
    "name": "ipython",
    "version": 3
   },
   "file_extension": ".py",
   "mimetype": "text/x-python",
   "name": "python",
   "nbconvert_exporter": "python",
   "pygments_lexer": "ipython3",
   "version": "3.10.10"
  },
  "orig_nbformat": 4
 },
 "nbformat": 4,
 "nbformat_minor": 2
}
