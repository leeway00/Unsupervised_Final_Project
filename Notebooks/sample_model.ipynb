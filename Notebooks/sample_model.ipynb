{
 "cells": [
  {
   "cell_type": "code",
   "execution_count": 1,
   "metadata": {},
   "outputs": [],
   "source": [
    "import pandas as pd\n",
    "import numpy as np\n",
    "import matplotlib.pyplot as plt\n",
    "from sklearn.cluster import OPTICS\n",
    "from sklearn.decomposition import PCA\n",
    "from sklearn.preprocessing import StandardScaler\n",
    "\n",
    "import os\n",
    "try:\n",
    "    os.chdir('../data/preprocess0506')\n",
    "except:\n",
    "    pass\n",
    "\n",
    "%matplotlib inline\n",
    "%reload_ext autoreload\n",
    "%autoreload 2"
   ]
  },
  {
   "cell_type": "code",
   "execution_count": null,
   "metadata": {},
   "outputs": [],
   "source": [
    "prices = pd.read_csv('./final_processed/daily_prices.csv', parse_dates=['date']).sort_values(['ticker','date']).set_index('date')\n",
    "# firms = pd.read_csv('./final_processed/firm_ratios.csv',  parse_dates=['date']).sort_values(['ticker','date']).set_index('date')\n",
    "fr = pd.read_csv('../zacks/fr.csv')"
   ]
  },
  {
   "cell_type": "code",
   "execution_count": 3,
   "metadata": {},
   "outputs": [],
   "source": [
    "fr = pd.read_csv('../zacks/fr.csv')"
   ]
  },
  {
   "cell_type": "code",
   "execution_count": 4,
   "metadata": {},
   "outputs": [
    {
     "data": {
      "text/html": [
       "<div>\n",
       "<style scoped>\n",
       "    .dataframe tbody tr th:only-of-type {\n",
       "        vertical-align: middle;\n",
       "    }\n",
       "\n",
       "    .dataframe tbody tr th {\n",
       "        vertical-align: top;\n",
       "    }\n",
       "\n",
       "    .dataframe thead th {\n",
       "        text-align: right;\n",
       "    }\n",
       "</style>\n",
       "<table border=\"1\" class=\"dataframe\">\n",
       "  <thead>\n",
       "    <tr style=\"text-align: right;\">\n",
       "      <th></th>\n",
       "      <th>No Data, try with a different combination of filters</th>\n",
       "    </tr>\n",
       "  </thead>\n",
       "  <tbody>\n",
       "  </tbody>\n",
       "</table>\n",
       "</div>"
      ],
      "text/plain": [
       "Empty DataFrame\n",
       "Columns: [No Data, try with a different combination of filters]\n",
       "Index: []"
      ]
     },
     "execution_count": 4,
     "metadata": {},
     "output_type": "execute_result"
    }
   ],
   "source": [
    "fr"
   ]
  },
  {
   "cell_type": "code",
   "execution_count": 4,
   "metadata": {},
   "outputs": [],
   "source": [
    "period = ['2000-01','2000-03']"
   ]
  },
  {
   "cell_type": "code",
   "execution_count": 43,
   "metadata": {},
   "outputs": [
    {
     "name": "stderr",
     "output_type": "stream",
     "text": [
      "/var/folders/1t/_7p_zm4x449blqs7bvqvb0rm0000gn/T/ipykernel_42080/714610207.py:1: FutureWarning: Value based partial slicing on non-monotonic DatetimeIndexes with non-existing keys is deprecated and will raise a KeyError in a future Version.\n",
      "  df = prices.loc[period[0]:period[1]].copy()\n",
      "/var/folders/1t/_7p_zm4x449blqs7bvqvb0rm0000gn/T/ipykernel_42080/714610207.py:2: FutureWarning: Value based partial slicing on non-monotonic DatetimeIndexes with non-existing keys is deprecated and will raise a KeyError in a future Version.\n",
      "  df2 = firms.loc[period[0]:period[1]].copy()\n"
     ]
    }
   ],
   "source": [
    "df = prices.loc[period[0]:period[1]].copy()\n",
    "df2 = firms.loc[period[0]:period[1]].copy()"
   ]
  },
  {
   "cell_type": "code",
   "execution_count": 38,
   "metadata": {},
   "outputs": [],
   "source": [
    "def get_log_return(df, col = 'adj_close'):\n",
    "    df = df.pivot_table(index = 'date', columns = 'ticker', values = col)\n",
    "    ret = (np.log(df) - np.log(df.shift(1))).cumsum().dropna()\n",
    "    ret = ret.unstack().to_frame('log_return_'+col).reset_index(0)\n",
    "    return ret\n",
    "\n",
    "data = get_log_return(df, col = 'adj_close')"
   ]
  },
  {
   "cell_type": "code",
   "execution_count": 46,
   "metadata": {},
   "outputs": [],
   "source": [
    "data = pd.merge(data, df2, on=['ticker','date'], how='left').fillna(0)"
   ]
  },
  {
   "cell_type": "code",
   "execution_count": 66,
   "metadata": {},
   "outputs": [],
   "source": [
    "df2 = df2.fillna(0)\n",
    "fit_data = df2.drop(['ticker','gicdesc'], axis=1)"
   ]
  },
  {
   "cell_type": "code",
   "execution_count": 51,
   "metadata": {},
   "outputs": [],
   "source": [
    "pca = PCA(n_components=2)"
   ]
  },
  {
   "cell_type": "code",
   "execution_count": 57,
   "metadata": {},
   "outputs": [],
   "source": [
    "df2_trans = pca.fit_transform(df2.drop(['ticker','gicdesc'], axis=1))"
   ]
  },
  {
   "cell_type": "code",
   "execution_count": 68,
   "metadata": {},
   "outputs": [],
   "source": [
    "scale = StandardScaler()"
   ]
  },
  {
   "cell_type": "code",
   "execution_count": 71,
   "metadata": {},
   "outputs": [
    {
     "data": {
      "text/plain": [
       "array([[-0.31146464, -0.49183917, -0.93090279, ..., -0.52665296,\n",
       "        -0.35172902, -0.80914574],\n",
       "       [-0.31146464, -0.49183917, -0.93090279, ..., -0.52665296,\n",
       "        -0.35172902, -0.80914574],\n",
       "       [-0.31146464, -0.49183917, -0.93090279, ..., -0.52665296,\n",
       "        -0.35172902, -0.80914574],\n",
       "       ...,\n",
       "       [-0.12170012, -0.49183917, -0.93090279, ..., -0.52665296,\n",
       "        -0.35172902, -0.80914574],\n",
       "       [-0.12170012, -0.49183917, -0.93090279, ..., -0.52665296,\n",
       "        -0.35172902, -0.80914574],\n",
       "       [-0.09861124, -0.49183917, -0.93090279, ..., -0.52665296,\n",
       "        -0.35172902, -0.80914574]])"
      ]
     },
     "execution_count": 71,
     "metadata": {},
     "output_type": "execute_result"
    }
   ],
   "source": [
    "scale.fit_transform(fit_data)"
   ]
  },
  {
   "cell_type": "code",
   "execution_count": 60,
   "metadata": {},
   "outputs": [
    {
     "data": {
      "text/html": [
       "<div>\n",
       "<style scoped>\n",
       "    .dataframe tbody tr th:only-of-type {\n",
       "        vertical-align: middle;\n",
       "    }\n",
       "\n",
       "    .dataframe tbody tr th {\n",
       "        vertical-align: top;\n",
       "    }\n",
       "\n",
       "    .dataframe thead th {\n",
       "        text-align: right;\n",
       "    }\n",
       "</style>\n",
       "<table border=\"1\" class=\"dataframe\">\n",
       "  <thead>\n",
       "    <tr style=\"text-align: right;\">\n",
       "      <th></th>\n",
       "      <th>pca1</th>\n",
       "      <th>pca2</th>\n",
       "    </tr>\n",
       "    <tr>\n",
       "      <th>date</th>\n",
       "      <th></th>\n",
       "      <th></th>\n",
       "    </tr>\n",
       "  </thead>\n",
       "  <tbody>\n",
       "    <tr>\n",
       "      <th>2000-01-03</th>\n",
       "      <td>-21649.579940</td>\n",
       "      <td>-2115.153576</td>\n",
       "    </tr>\n",
       "    <tr>\n",
       "      <th>2000-01-04</th>\n",
       "      <td>-21649.579940</td>\n",
       "      <td>-2115.153577</td>\n",
       "    </tr>\n",
       "    <tr>\n",
       "      <th>2000-01-05</th>\n",
       "      <td>-21649.579940</td>\n",
       "      <td>-2115.153577</td>\n",
       "    </tr>\n",
       "    <tr>\n",
       "      <th>2000-01-06</th>\n",
       "      <td>-21649.579940</td>\n",
       "      <td>-2115.153577</td>\n",
       "    </tr>\n",
       "    <tr>\n",
       "      <th>2000-01-07</th>\n",
       "      <td>-21649.579940</td>\n",
       "      <td>-2115.153577</td>\n",
       "    </tr>\n",
       "    <tr>\n",
       "      <th>...</th>\n",
       "      <td>...</td>\n",
       "      <td>...</td>\n",
       "    </tr>\n",
       "    <tr>\n",
       "      <th>2000-03-27</th>\n",
       "      <td>-17565.857265</td>\n",
       "      <td>-2530.841520</td>\n",
       "    </tr>\n",
       "    <tr>\n",
       "      <th>2000-03-28</th>\n",
       "      <td>-17565.857265</td>\n",
       "      <td>-2530.841520</td>\n",
       "    </tr>\n",
       "    <tr>\n",
       "      <th>2000-03-29</th>\n",
       "      <td>-17565.857265</td>\n",
       "      <td>-2530.841520</td>\n",
       "    </tr>\n",
       "    <tr>\n",
       "      <th>2000-03-30</th>\n",
       "      <td>-17565.857265</td>\n",
       "      <td>-2530.841520</td>\n",
       "    </tr>\n",
       "    <tr>\n",
       "      <th>2000-03-31</th>\n",
       "      <td>-17068.985874</td>\n",
       "      <td>-2581.420541</td>\n",
       "    </tr>\n",
       "  </tbody>\n",
       "</table>\n",
       "<p>22197 rows × 2 columns</p>\n",
       "</div>"
      ],
      "text/plain": [
       "                    pca1         pca2\n",
       "date                                 \n",
       "2000-01-03 -21649.579940 -2115.153576\n",
       "2000-01-04 -21649.579940 -2115.153577\n",
       "2000-01-05 -21649.579940 -2115.153577\n",
       "2000-01-06 -21649.579940 -2115.153577\n",
       "2000-01-07 -21649.579940 -2115.153577\n",
       "...                  ...          ...\n",
       "2000-03-27 -17565.857265 -2530.841520\n",
       "2000-03-28 -17565.857265 -2530.841520\n",
       "2000-03-29 -17565.857265 -2530.841520\n",
       "2000-03-30 -17565.857265 -2530.841520\n",
       "2000-03-31 -17068.985874 -2581.420541\n",
       "\n",
       "[22197 rows x 2 columns]"
      ]
     },
     "execution_count": 60,
     "metadata": {},
     "output_type": "execute_result"
    }
   ],
   "source": [
    "pd.DataFrame(df2_trans, columns=['pca1','pca2'], index=df2.index)"
   ]
  }
 ],
 "metadata": {
  "kernelspec": {
   "display_name": "hun",
   "language": "python",
   "name": "python3"
  },
  "language_info": {
   "codemirror_mode": {
    "name": "ipython",
    "version": 3
   },
   "file_extension": ".py",
   "mimetype": "text/x-python",
   "name": "python",
   "nbconvert_exporter": "python",
   "pygments_lexer": "ipython3",
   "version": "3.10.10"
  },
  "orig_nbformat": 4
 },
 "nbformat": 4,
 "nbformat_minor": 2
}
