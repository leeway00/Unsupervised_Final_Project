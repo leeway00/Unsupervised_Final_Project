{
 "cells": [
  {
   "cell_type": "code",
   "execution_count": 1,
   "metadata": {},
   "outputs": [],
   "source": [
    "import pandas as pd\n",
    "import numpy as np\n",
    "import wrds\n",
    "import nasdaqdatalink as ndl\n",
    "from tqdm import tqdm\n",
    "import os\n",
    "try:\n",
    "    os.chdir('../')\n",
    "except:\n",
    "    pass\n",
    "\n",
    "import keys"
   ]
  },
  {
   "attachments": {},
   "cell_type": "markdown",
   "metadata": {},
   "source": [
    "# 0. S&P500 Ticker List\n",
    "\n",
    "https://github.com/fja05680/sp500\n",
    "\n",
    "- ./data/sp500_tickers/sp500.csv : current sp500 components\n",
    "- ./data/sp500_tickers/sp500_historical.csv : tickers from 1996 to 2023"
   ]
  },
  {
   "cell_type": "code",
   "execution_count": 2,
   "metadata": {},
   "outputs": [
    {
     "data": {
      "text/plain": [
       "'/Users/hun/PersonalGit/Uchicago_Programming/ttic-unsupervised/Unsupervised_Final_Project'"
      ]
     },
     "execution_count": 2,
     "metadata": {},
     "output_type": "execute_result"
    }
   ],
   "source": [
    "os.getcwd()"
   ]
  },
  {
   "cell_type": "code",
   "execution_count": 21,
   "metadata": {},
   "outputs": [
    {
     "data": {
      "text/plain": [
       "835"
      ]
     },
     "execution_count": 21,
     "metadata": {},
     "output_type": "execute_result"
    }
   ],
   "source": [
    "tickers = pd.read_csv(\"./data/sp500_tickers/sp500_historical.csv\", parse_dates=['date']).set_index('date')\n",
    "tickers.shape\n",
    "\n",
    "# sample = tuple(tickers[tickers.date == '2006-01-03'].tickers.iloc[0].split(\",\"))\n",
    "# len(sample)\n",
    "\n",
    "ticker_set = set()\n",
    "for i in tickers.loc[\"2006\":\"2019\"].tickers:\n",
    "    set2 = set(i.split(\",\"))\n",
    "    ticker_set = ticker_set.union(set2)\n",
    "\n",
    "sample = tuple(ticker_set)\n",
    "len(sample)"
   ]
  },
  {
   "cell_type": "code",
   "execution_count": 3,
   "metadata": {},
   "outputs": [],
   "source": [
    "# with open(\"tickers.txt\", \"w\") as f:\n",
    "#     for ticker in sample:\n",
    "#         f.write(ticker + \"\\n\")"
   ]
  },
  {
   "attachments": {},
   "cell_type": "markdown",
   "metadata": {},
   "source": [
    "# 1. WRDS"
   ]
  },
  {
   "cell_type": "code",
   "execution_count": 7,
   "metadata": {},
   "outputs": [
    {
     "name": "stdout",
     "output_type": "stream",
     "text": [
      "Loading library list...\n",
      "Done\n"
     ]
    }
   ],
   "source": [
    "conn = wrds.Connection(wrds_username = \"younghunlee\")"
   ]
  },
  {
   "attachments": {},
   "cell_type": "markdown",
   "metadata": {},
   "source": [
    "## 1. Price"
   ]
  },
  {
   "cell_type": "code",
   "execution_count": null,
   "metadata": {},
   "outputs": [],
   "source": [
    "price_query = f\"\"\"SELECT * \n",
    "    FROM wrdsapps_finratio.firm_ratio \n",
    "    WHERE ticker IN {sample[:5]}\n",
    "    AND adate >= '2010-01-01' AND adate <= '2019-12-31'\n",
    "    ORDER BY adate ASC;\"\"\""
   ]
  },
  {
   "cell_type": "code",
   "execution_count": 29,
   "metadata": {},
   "outputs": [],
   "source": [
    "query = f\"\"\"SELECT * \n",
    "    FROM wrdsapps_finratio.firm_ratio \n",
    "    WHERE ticker IN ('ABT')\n",
    "    AND public_date >= '1999-06-01' AND public_date <= '2003-12-31'\n",
    "    ORDER BY public_date ASC;\"\"\""
   ]
  },
  {
   "attachments": {},
   "cell_type": "markdown",
   "metadata": {},
   "source": [
    "- public_date : market available date\n",
    "- gsesector : GICS industry portfolio value\n",
    "- gsedecs: GICS sector name"
   ]
  },
  {
   "cell_type": "code",
   "execution_count": 32,
   "metadata": {},
   "outputs": [
    {
     "data": {
      "text/html": [
       "<div>\n",
       "<style scoped>\n",
       "    .dataframe tbody tr th:only-of-type {\n",
       "        vertical-align: middle;\n",
       "    }\n",
       "\n",
       "    .dataframe tbody tr th {\n",
       "        vertical-align: top;\n",
       "    }\n",
       "\n",
       "    .dataframe thead th {\n",
       "        text-align: right;\n",
       "    }\n",
       "</style>\n",
       "<table border=\"1\" class=\"dataframe\">\n",
       "  <thead>\n",
       "    <tr style=\"text-align: right;\">\n",
       "      <th></th>\n",
       "      <th>gvkey</th>\n",
       "      <th>permno</th>\n",
       "      <th>adate</th>\n",
       "      <th>qdate</th>\n",
       "      <th>public_date</th>\n",
       "      <th>capei</th>\n",
       "      <th>be</th>\n",
       "      <th>bm</th>\n",
       "      <th>evm</th>\n",
       "      <th>pe_op_basic</th>\n",
       "      <th>...</th>\n",
       "      <th>ffi30_desc</th>\n",
       "      <th>ffi30</th>\n",
       "      <th>ffi38_desc</th>\n",
       "      <th>ffi38</th>\n",
       "      <th>ffi48_desc</th>\n",
       "      <th>ffi48</th>\n",
       "      <th>ffi49_desc</th>\n",
       "      <th>ffi49</th>\n",
       "      <th>ticker</th>\n",
       "      <th>cusip</th>\n",
       "    </tr>\n",
       "  </thead>\n",
       "  <tbody>\n",
       "    <tr>\n",
       "      <th>0</th>\n",
       "      <td>001078</td>\n",
       "      <td>20482.0</td>\n",
       "      <td>1998-12-31</td>\n",
       "      <td>1999-03-31</td>\n",
       "      <td>1999-06-30</td>\n",
       "      <td>36.620610</td>\n",
       "      <td>6062.238</td>\n",
       "      <td>0.085235</td>\n",
       "      <td>17.696793</td>\n",
       "      <td>28.718354</td>\n",
       "      <td>...</td>\n",
       "      <td>HLTH</td>\n",
       "      <td>8.0</td>\n",
       "      <td>CHEMS</td>\n",
       "      <td>14.0</td>\n",
       "      <td>DRUGS</td>\n",
       "      <td>13.0</td>\n",
       "      <td>DRUGS</td>\n",
       "      <td>13.0</td>\n",
       "      <td>ABT</td>\n",
       "      <td>00282410</td>\n",
       "    </tr>\n",
       "    <tr>\n",
       "      <th>1</th>\n",
       "      <td>001078</td>\n",
       "      <td>20482.0</td>\n",
       "      <td>1998-12-31</td>\n",
       "      <td>1999-03-31</td>\n",
       "      <td>1999-07-31</td>\n",
       "      <td>34.653387</td>\n",
       "      <td>6062.238</td>\n",
       "      <td>0.085235</td>\n",
       "      <td>17.696793</td>\n",
       "      <td>27.175633</td>\n",
       "      <td>...</td>\n",
       "      <td>HLTH</td>\n",
       "      <td>8.0</td>\n",
       "      <td>CHEMS</td>\n",
       "      <td>14.0</td>\n",
       "      <td>DRUGS</td>\n",
       "      <td>13.0</td>\n",
       "      <td>DRUGS</td>\n",
       "      <td>13.0</td>\n",
       "      <td>ABT</td>\n",
       "      <td>00282410</td>\n",
       "    </tr>\n",
       "    <tr>\n",
       "      <th>2</th>\n",
       "      <td>001078</td>\n",
       "      <td>20482.0</td>\n",
       "      <td>1998-12-31</td>\n",
       "      <td>1999-06-30</td>\n",
       "      <td>1999-08-31</td>\n",
       "      <td>34.103282</td>\n",
       "      <td>6439.271</td>\n",
       "      <td>0.093293</td>\n",
       "      <td>17.836545</td>\n",
       "      <td>26.774691</td>\n",
       "      <td>...</td>\n",
       "      <td>HLTH</td>\n",
       "      <td>8.0</td>\n",
       "      <td>CHEMS</td>\n",
       "      <td>14.0</td>\n",
       "      <td>DRUGS</td>\n",
       "      <td>13.0</td>\n",
       "      <td>DRUGS</td>\n",
       "      <td>13.0</td>\n",
       "      <td>ABT</td>\n",
       "      <td>00282410</td>\n",
       "    </tr>\n",
       "    <tr>\n",
       "      <th>3</th>\n",
       "      <td>001078</td>\n",
       "      <td>20482.0</td>\n",
       "      <td>1998-12-31</td>\n",
       "      <td>1999-06-30</td>\n",
       "      <td>1999-09-30</td>\n",
       "      <td>28.845283</td>\n",
       "      <td>6439.271</td>\n",
       "      <td>0.093293</td>\n",
       "      <td>17.836545</td>\n",
       "      <td>22.646605</td>\n",
       "      <td>...</td>\n",
       "      <td>HLTH</td>\n",
       "      <td>8.0</td>\n",
       "      <td>CHEMS</td>\n",
       "      <td>14.0</td>\n",
       "      <td>DRUGS</td>\n",
       "      <td>13.0</td>\n",
       "      <td>DRUGS</td>\n",
       "      <td>13.0</td>\n",
       "      <td>ABT</td>\n",
       "      <td>00282410</td>\n",
       "    </tr>\n",
       "    <tr>\n",
       "      <th>4</th>\n",
       "      <td>001078</td>\n",
       "      <td>20482.0</td>\n",
       "      <td>1998-12-31</td>\n",
       "      <td>1999-06-30</td>\n",
       "      <td>1999-10-31</td>\n",
       "      <td>31.744554</td>\n",
       "      <td>6439.271</td>\n",
       "      <td>0.093293</td>\n",
       "      <td>17.836545</td>\n",
       "      <td>24.922840</td>\n",
       "      <td>...</td>\n",
       "      <td>HLTH</td>\n",
       "      <td>8.0</td>\n",
       "      <td>CHEMS</td>\n",
       "      <td>14.0</td>\n",
       "      <td>DRUGS</td>\n",
       "      <td>13.0</td>\n",
       "      <td>DRUGS</td>\n",
       "      <td>13.0</td>\n",
       "      <td>ABT</td>\n",
       "      <td>00282410</td>\n",
       "    </tr>\n",
       "    <tr>\n",
       "      <th>5</th>\n",
       "      <td>001078</td>\n",
       "      <td>20482.0</td>\n",
       "      <td>1998-12-31</td>\n",
       "      <td>1999-09-30</td>\n",
       "      <td>1999-11-30</td>\n",
       "      <td>29.487998</td>\n",
       "      <td>6669.653</td>\n",
       "      <td>0.119451</td>\n",
       "      <td>17.641371</td>\n",
       "      <td>24.203822</td>\n",
       "      <td>...</td>\n",
       "      <td>HLTH</td>\n",
       "      <td>8.0</td>\n",
       "      <td>CHEMS</td>\n",
       "      <td>14.0</td>\n",
       "      <td>DRUGS</td>\n",
       "      <td>13.0</td>\n",
       "      <td>DRUGS</td>\n",
       "      <td>13.0</td>\n",
       "      <td>ABT</td>\n",
       "      <td>00282410</td>\n",
       "    </tr>\n",
       "    <tr>\n",
       "      <th>6</th>\n",
       "      <td>001078</td>\n",
       "      <td>20482.0</td>\n",
       "      <td>1998-12-31</td>\n",
       "      <td>1999-09-30</td>\n",
       "      <td>1999-12-31</td>\n",
       "      <td>28.178498</td>\n",
       "      <td>6669.653</td>\n",
       "      <td>0.119451</td>\n",
       "      <td>17.641371</td>\n",
       "      <td>23.128981</td>\n",
       "      <td>...</td>\n",
       "      <td>HLTH</td>\n",
       "      <td>8.0</td>\n",
       "      <td>CHEMS</td>\n",
       "      <td>14.0</td>\n",
       "      <td>DRUGS</td>\n",
       "      <td>13.0</td>\n",
       "      <td>DRUGS</td>\n",
       "      <td>13.0</td>\n",
       "      <td>ABT</td>\n",
       "      <td>00282410</td>\n",
       "    </tr>\n",
       "    <tr>\n",
       "      <th>7</th>\n",
       "      <td>001078</td>\n",
       "      <td>20482.0</td>\n",
       "      <td>1998-12-31</td>\n",
       "      <td>1999-09-30</td>\n",
       "      <td>2000-01-31</td>\n",
       "      <td>25.268498</td>\n",
       "      <td>6669.653</td>\n",
       "      <td>0.119451</td>\n",
       "      <td>17.641371</td>\n",
       "      <td>20.740446</td>\n",
       "      <td>...</td>\n",
       "      <td>HLTH</td>\n",
       "      <td>8.0</td>\n",
       "      <td>CHEMS</td>\n",
       "      <td>14.0</td>\n",
       "      <td>DRUGS</td>\n",
       "      <td>13.0</td>\n",
       "      <td>DRUGS</td>\n",
       "      <td>13.0</td>\n",
       "      <td>ABT</td>\n",
       "      <td>00282410</td>\n",
       "    </tr>\n",
       "    <tr>\n",
       "      <th>8</th>\n",
       "      <td>001078</td>\n",
       "      <td>20482.0</td>\n",
       "      <td>1999-12-31</td>\n",
       "      <td>1999-12-31</td>\n",
       "      <td>2000-02-29</td>\n",
       "      <td>24.286846</td>\n",
       "      <td>7451.374</td>\n",
       "      <td>0.132643</td>\n",
       "      <td>14.035345</td>\n",
       "      <td>19.760479</td>\n",
       "      <td>...</td>\n",
       "      <td>HLTH</td>\n",
       "      <td>8.0</td>\n",
       "      <td>CHEMS</td>\n",
       "      <td>14.0</td>\n",
       "      <td>DRUGS</td>\n",
       "      <td>13.0</td>\n",
       "      <td>DRUGS</td>\n",
       "      <td>13.0</td>\n",
       "      <td>ABT</td>\n",
       "      <td>00282410</td>\n",
       "    </tr>\n",
       "    <tr>\n",
       "      <th>9</th>\n",
       "      <td>001078</td>\n",
       "      <td>20482.0</td>\n",
       "      <td>1999-12-31</td>\n",
       "      <td>1999-12-31</td>\n",
       "      <td>2000-03-31</td>\n",
       "      <td>26.071677</td>\n",
       "      <td>7451.374</td>\n",
       "      <td>0.132643</td>\n",
       "      <td>14.035345</td>\n",
       "      <td>21.070359</td>\n",
       "      <td>...</td>\n",
       "      <td>HLTH</td>\n",
       "      <td>8.0</td>\n",
       "      <td>CHEMS</td>\n",
       "      <td>14.0</td>\n",
       "      <td>DRUGS</td>\n",
       "      <td>13.0</td>\n",
       "      <td>DRUGS</td>\n",
       "      <td>13.0</td>\n",
       "      <td>ABT</td>\n",
       "      <td>00282410</td>\n",
       "    </tr>\n",
       "  </tbody>\n",
       "</table>\n",
       "<p>10 rows × 98 columns</p>\n",
       "</div>"
      ],
      "text/plain": [
       "    gvkey   permno       adate       qdate public_date      capei        be  \\\n",
       "0  001078  20482.0  1998-12-31  1999-03-31  1999-06-30  36.620610  6062.238   \n",
       "1  001078  20482.0  1998-12-31  1999-03-31  1999-07-31  34.653387  6062.238   \n",
       "2  001078  20482.0  1998-12-31  1999-06-30  1999-08-31  34.103282  6439.271   \n",
       "3  001078  20482.0  1998-12-31  1999-06-30  1999-09-30  28.845283  6439.271   \n",
       "4  001078  20482.0  1998-12-31  1999-06-30  1999-10-31  31.744554  6439.271   \n",
       "5  001078  20482.0  1998-12-31  1999-09-30  1999-11-30  29.487998  6669.653   \n",
       "6  001078  20482.0  1998-12-31  1999-09-30  1999-12-31  28.178498  6669.653   \n",
       "7  001078  20482.0  1998-12-31  1999-09-30  2000-01-31  25.268498  6669.653   \n",
       "8  001078  20482.0  1999-12-31  1999-12-31  2000-02-29  24.286846  7451.374   \n",
       "9  001078  20482.0  1999-12-31  1999-12-31  2000-03-31  26.071677  7451.374   \n",
       "\n",
       "         bm        evm  pe_op_basic  ...  ffi30_desc  ffi30  ffi38_desc  \\\n",
       "0  0.085235  17.696793    28.718354  ...        HLTH    8.0       CHEMS   \n",
       "1  0.085235  17.696793    27.175633  ...        HLTH    8.0       CHEMS   \n",
       "2  0.093293  17.836545    26.774691  ...        HLTH    8.0       CHEMS   \n",
       "3  0.093293  17.836545    22.646605  ...        HLTH    8.0       CHEMS   \n",
       "4  0.093293  17.836545    24.922840  ...        HLTH    8.0       CHEMS   \n",
       "5  0.119451  17.641371    24.203822  ...        HLTH    8.0       CHEMS   \n",
       "6  0.119451  17.641371    23.128981  ...        HLTH    8.0       CHEMS   \n",
       "7  0.119451  17.641371    20.740446  ...        HLTH    8.0       CHEMS   \n",
       "8  0.132643  14.035345    19.760479  ...        HLTH    8.0       CHEMS   \n",
       "9  0.132643  14.035345    21.070359  ...        HLTH    8.0       CHEMS   \n",
       "\n",
       "   ffi38  ffi48_desc  ffi48  ffi49_desc  ffi49  ticker     cusip  \n",
       "0   14.0       DRUGS   13.0       DRUGS   13.0     ABT  00282410  \n",
       "1   14.0       DRUGS   13.0       DRUGS   13.0     ABT  00282410  \n",
       "2   14.0       DRUGS   13.0       DRUGS   13.0     ABT  00282410  \n",
       "3   14.0       DRUGS   13.0       DRUGS   13.0     ABT  00282410  \n",
       "4   14.0       DRUGS   13.0       DRUGS   13.0     ABT  00282410  \n",
       "5   14.0       DRUGS   13.0       DRUGS   13.0     ABT  00282410  \n",
       "6   14.0       DRUGS   13.0       DRUGS   13.0     ABT  00282410  \n",
       "7   14.0       DRUGS   13.0       DRUGS   13.0     ABT  00282410  \n",
       "8   14.0       DRUGS   13.0       DRUGS   13.0     ABT  00282410  \n",
       "9   14.0       DRUGS   13.0       DRUGS   13.0     ABT  00282410  \n",
       "\n",
       "[10 rows x 98 columns]"
      ]
     },
     "execution_count": 32,
     "metadata": {},
     "output_type": "execute_result"
    }
   ],
   "source": [
    "temp = conn.raw_sql(query)\n",
    "temp[:10]"
   ]
  },
  {
   "cell_type": "code",
   "execution_count": 33,
   "metadata": {},
   "outputs": [
    {
     "name": "stderr",
     "output_type": "stream",
     "text": [
      "100%|██████████| 21/21 [00:55<00:00,  2.63s/it]\n"
     ]
    }
   ],
   "source": [
    "# res = pd.DataFrame( )\n",
    "init = True\n",
    "for y in tqdm(range(1999, 2020)):\n",
    "    query = f\"\"\"SELECT * \n",
    "        FROM wrdsapps_finratio.firm_ratio \n",
    "        WHERE ticker IN {sample}\n",
    "        AND public_date >= '{y}-01-01' AND public_date <= '{y}-12-31'\n",
    "        ORDER BY public_date ASC;\"\"\"\n",
    "    temp = conn.raw_sql(query)\n",
    "    if init:\n",
    "        temp.to_csv(f\"./data/fin_firm_raw2.csv\", index = False)\n",
    "        init = False\n",
    "    else:\n",
    "        temp.to_csv(f\"./data/fin_firm_raw2.csv\", mode='a', header=False, index = False)"
   ]
  },
  {
   "attachments": {},
   "cell_type": "markdown",
   "metadata": {},
   "source": [
    "# 2. NasdaqDataLink"
   ]
  },
  {
   "cell_type": "code",
   "execution_count": 26,
   "metadata": {},
   "outputs": [],
   "source": [
    "try:\n",
    "    zacks_tickers = pd.read_csv('./data/zacks_tickers.csv', dtype={tickers:str})\n",
    "except:\n",
    "    zacks_tickers = ndl.get_table('ZACKS/MT', paginate = True)\n",
    "    # zacks_tickers = zacks_tickers[(zacks_tickers.active_ticker_flag == 'N') & (zacks_tickers.country_code == 'US')]\n",
    "    # zacks_tickers = zacks_tickers[(zacks_tickers.active_ticker_flag == 'N') & (zacks_tickers.country_code == 'US')]\n",
    "    # zacks_tickers = zacks_tickers[~zacks_tickers.zacks_x_sector_desc.isin([\"Auto/Tires/Trucks\", \"Finance\"])]\n",
    "    zacks_tickers.to_csv('./data/zacks_tickers.csv')\n",
    "# ticker_avail = ','.join(zacks_tickers.ticker.unique())\n",
    "\n",
    "ticks = list(zacks_tickers.ticker)\n",
    "in_zacks = []\n",
    "for s in sample:\n",
    "    if s in ticks:\n",
    "        in_zacks.append(s)\n",
    "\n",
    "ticker_avail = ','.join(in_zacks)"
   ]
  },
  {
   "cell_type": "code",
   "execution_count": 27,
   "metadata": {},
   "outputs": [
    {
     "data": {
      "text/plain": [
       "772"
      ]
     },
     "execution_count": 27,
     "metadata": {},
     "output_type": "execute_result"
    }
   ],
   "source": [
    "len(in_zacks)"
   ]
  },
  {
   "cell_type": "code",
   "execution_count": 4,
   "metadata": {},
   "outputs": [],
   "source": [
    "try:\n",
    "    prices = pd.read_csv('../data/daily_prices.csv')\n",
    "    prices.date = pd.to_datetime(prices.date)\n",
    "    prices = prices.set_index(['ticker','date']).sort_index()[['close', 'adj_close','adj_volume']]\n",
    "except:\n",
    "    ndl.export_table('QUOTEMEDIA/PRICES',\n",
    "                        ticker = list(sample),\n",
    "                        date = {'gte': \"2000-01-01\", 'lte': \"2019-12-31\" }, \n",
    "                        filename = './data/daily_prices.zip')"
   ]
  },
  {
   "cell_type": "code",
   "execution_count": 42,
   "metadata": {},
   "outputs": [],
   "source": [
    "import os"
   ]
  },
  {
   "cell_type": "code",
   "execution_count": null,
   "metadata": {},
   "outputs": [],
   "source": [
    "start_date = '2006-01-01'\n",
    "end_date = '2020-01-31'\n",
    "\n",
    "try:\n",
    "    raise Exception\n",
    "    fr = pd.read_csv(\"./data/zacks/fr.csv\")\n",
    "    fc = pd.read_csv(\"./data/zacks/fc.csv\")\n",
    "    mkval = pd.read_csv(\"./data/zacks/mktv.csv\")\n",
    "    shrs = pd.read_csv(\"./data/zacks/shrs.csv\")\n",
    "except:\n",
    "    ndl.export_table('ZACKS/FR', ticker = ticker_avail, per_end_date = {'gte': start_date, 'lte': end_date }, filename = './data/zacks/ZACKS_FR_test.zip')\n",
    "    ndl.export_table('ZACKS/FC', ticker = ticker_avail, per_end_date = {'gte': start_date, 'lte': end_date }, filename = './data/zacks/ZACKS_FC.zip')\n",
    "    ndl.export_table('ZACKS/MKTV', ticker = ticker_avail, per_end_date = {'gte': start_date, 'lte': end_date }, filename = './data/zacks/ZACKS_mktv.zip')\n",
    "    ndl.export_table('ZACKS/SHRS', ticker = ticker_avail, per_end_date = {'gte': start_date, 'lte': end_date }, filename = './data/zacks/ZACKS_shares.zip')"
   ]
  },
  {
   "cell_type": "code",
   "execution_count": 7,
   "metadata": {},
   "outputs": [],
   "source": [
    "start_date = '2000-01-01'\n",
    "end_date = '2010-01-31'\n",
    "\n",
    "try:\n",
    "    raise Exception\n",
    "    fr = pd.read_csv(\"./data/zacks/fr.csv\")\n",
    "    fc = pd.read_csv(\"./data/zacks/fc.csv\")\n",
    "    mkval = pd.read_csv(\"./data/zacks/mktv.csv\")\n",
    "    shrs = pd.read_csv(\"./data/zacks/shrs.csv\")\n",
    "except:\n",
    "    ndl.export_table('ZACKS/FR', ticker = ticker_avail, per_end_date = {'gte': start_date, 'lte': end_date }, filename = './data/zacks/ZACKS_FR.zip')\n",
    "    # ndl.export_table('ZACKS/FC', ticker = ticker_avail, per_end_date = {'gte': start_date, 'lte': end_date }, filename = './data/zacks/ZACKS_FC.zip')\n",
    "    # ndl.export_table('ZACKS/MKTV', ticker = ticker_avail, per_end_date = {'gte': start_date, 'lte': end_date }, filename = './data/zacks/ZACKS_mktv.zip')\n",
    "    # ndl.export_table('ZACKS/SHRS', ticker = ticker_avail, per_end_date = {'gte': start_date, 'lte': end_date }, filename = './data/zacks/ZACKS_shares.zip')"
   ]
  },
  {
   "cell_type": "code",
   "execution_count": 33,
   "metadata": {},
   "outputs": [],
   "source": []
  },
  {
   "cell_type": "code",
   "execution_count": null,
   "metadata": {},
   "outputs": [],
   "source": []
  },
  {
   "cell_type": "code",
   "execution_count": null,
   "metadata": {},
   "outputs": [],
   "source": []
  },
  {
   "cell_type": "code",
   "execution_count": null,
   "metadata": {},
   "outputs": [],
   "source": []
  }
 ],
 "metadata": {
  "kernelspec": {
   "display_name": "hun",
   "language": "python",
   "name": "python3"
  },
  "language_info": {
   "codemirror_mode": {
    "name": "ipython",
    "version": 3
   },
   "file_extension": ".py",
   "mimetype": "text/x-python",
   "name": "python",
   "nbconvert_exporter": "python",
   "pygments_lexer": "ipython3",
   "version": "3.10.10"
  },
  "orig_nbformat": 4
 },
 "nbformat": 4,
 "nbformat_minor": 2
}
